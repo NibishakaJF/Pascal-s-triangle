{
 "cells": [
  {
   "cell_type": "markdown",
   "id": "5054e1f1",
   "metadata": {},
   "source": [
    "Pascal's triangle, in algebra, a triangular arrangement of numbers that gives the coefficients in the expansion of any binomial expression, such as $(x + y)^n$."
   ]
  },
  {
   "cell_type": "code",
   "execution_count": 1,
   "id": "c2027f04",
   "metadata": {},
   "outputs": [
    {
     "name": "stdout",
     "output_type": "stream",
     "text": [
      "Enter the limit to stop: 7\n",
      "          1          \n",
      "         1 1         \n",
      "        1 2 1        \n",
      "       1 3 3 1       \n",
      "      1 4 6 4 1      \n",
      "    1 5 10 10 5 1    \n",
      "   1 6 15 20 15 6 1  \n"
     ]
    }
   ],
   "source": [
    "# Define a function to generate Pascal's triangle\n",
    "def pascals_triangle(n):\n",
    "    triangle = [[1]]\n",
    "    for i in range(1, n):\n",
    "        row = [1]\n",
    "        for j in range(1, i):\n",
    "            row.append(triangle[i-1][j-1] + triangle[i-1][j])\n",
    "        row.append(1)\n",
    "        triangle.append(row)\n",
    "    return triangle\n",
    "\n",
    "# Get the limit from the user\n",
    "limit = int(input(\"Enter the limit to stop: \"))\n",
    "\n",
    "# Generate Pascal's triangle\n",
    "triangle = pascals_triangle(limit)\n",
    "\n",
    "# Print the triangle\n",
    "for row in triangle:\n",
    "    print(\" \".join(str(x) for x in row).center(limit*3))\n"
   ]
  },
  {
   "cell_type": "markdown",
   "id": "ccc40c2d",
   "metadata": {},
   "source": [
    "When you run this code, it will ask the user to enter the limit to stop (i.e., the number of rows in the triangle), and then it will generate and print the Pascal's triangleIn this version of the code, we're using a nested list to store the values of Pascal's triangle, and we're using string formatting to print the triangle in a visually clear way. Specifically, we're using the join() method to concatenate the numbers in each row with spaces, and the center() method to center each row in the console. This makes it easier to see the pattern of the triangle and how the numbers are generated."
   ]
  },
  {
   "cell_type": "code",
   "execution_count": null,
   "id": "5b2296be",
   "metadata": {},
   "outputs": [],
   "source": []
  }
 ],
 "metadata": {
  "kernelspec": {
   "display_name": "Python 3 (ipykernel)",
   "language": "python",
   "name": "python3"
  },
  "language_info": {
   "codemirror_mode": {
    "name": "ipython",
    "version": 3
   },
   "file_extension": ".py",
   "mimetype": "text/x-python",
   "name": "python",
   "nbconvert_exporter": "python",
   "pygments_lexer": "ipython3",
   "version": "3.9.12"
  }
 },
 "nbformat": 4,
 "nbformat_minor": 5
}
